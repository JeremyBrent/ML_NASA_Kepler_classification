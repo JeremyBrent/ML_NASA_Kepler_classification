{
 "cells": [
  {
   "cell_type": "code",
   "execution_count": 11,
   "metadata": {
    "ExecuteTime": {
     "end_time": "2020-07-29T05:41:17.258187Z",
     "start_time": "2020-07-29T05:41:17.254748Z"
    }
   },
   "outputs": [],
   "source": [
    "# Import dependencies\n",
    "import pandas as pd\n",
    "import matplotlib.pyplot as plt\n",
    "import seaborn as sns\n",
    "import joblib\n",
    "import sklearn\n",
    "from sklearn.tree import DecisionTreeClassifier\n",
    "from sklearn.ensemble import RandomForestClassifier"
   ]
  },
  {
   "cell_type": "code",
   "execution_count": 12,
   "metadata": {
    "ExecuteTime": {
     "end_time": "2020-07-29T05:41:17.484579Z",
     "start_time": "2020-07-29T05:41:17.424504Z"
    }
   },
   "outputs": [],
   "source": [
    "# Get column names for feature importance analysis\n",
    "input_data = pd.read_csv(\"../Data/exoplanet_data.csv\").iloc[:,1:]\n",
    "feature_names = input_data.columns"
   ]
  },
  {
   "cell_type": "code",
   "execution_count": 13,
   "metadata": {
    "ExecuteTime": {
     "end_time": "2020-07-29T05:41:17.617117Z",
     "start_time": "2020-07-29T05:41:17.607552Z"
    }
   },
   "outputs": [],
   "source": [
    "# Load data\n",
    "npz = np.load(\"../Data/Kepler_data_train.npz\",allow_pickle=True)\n",
    "\n",
    "x_train = npz['inputs']\n",
    "y_train = npz['targets']\n",
    "\n",
    "npz = np.load(\"../Data/Kepler_data_test.npz\",allow_pickle=True)\n",
    "x_test = npz['inputs']\n",
    "y_test = npz['targets']"
   ]
  },
  {
   "cell_type": "code",
   "execution_count": 14,
   "metadata": {
    "ExecuteTime": {
     "end_time": "2020-07-29T05:41:18.553314Z",
     "start_time": "2020-07-29T05:41:18.550960Z"
    }
   },
   "outputs": [],
   "source": [
    "feature_names = pd.DataFrame(x_train)"
   ]
  },
  {
   "cell_type": "markdown",
   "metadata": {},
   "source": [
    "# Decision Tree Classifier"
   ]
  },
  {
   "cell_type": "code",
   "execution_count": 15,
   "metadata": {
    "ExecuteTime": {
     "end_time": "2020-07-29T05:41:19.483020Z",
     "start_time": "2020-07-29T05:41:19.307180Z"
    }
   },
   "outputs": [
    {
     "data": {
      "text/plain": [
       "0.852974828375286"
      ]
     },
     "execution_count": 15,
     "metadata": {},
     "output_type": "execute_result"
    }
   ],
   "source": [
    "tree_classifier = DecisionTreeClassifier()\n",
    "tree_classifier.fit(x_train, y_train)\n",
    "tree_classifier.score(x_test, y_test)"
   ]
  },
  {
   "cell_type": "code",
   "execution_count": 16,
   "metadata": {
    "ExecuteTime": {
     "end_time": "2020-07-29T05:41:20.949050Z",
     "start_time": "2020-07-29T05:41:20.943174Z"
    }
   },
   "outputs": [
    {
     "data": {
      "text/plain": [
       "[(0.1885148380619759, 0),\n",
       " (0.1883255554369894, 2),\n",
       " (0.1715423069019366, 1),\n",
       " (0.13706063235373991, 26),\n",
       " (0.030401386032637454, 3),\n",
       " (0.026646487417368102, 10),\n",
       " (0.01522750696147155, 13),\n",
       " (0.014551769789075535, 4),\n",
       " (0.012032355780352954, 7),\n",
       " (0.011511507941897665, 30),\n",
       " (0.011375567804454225, 32),\n",
       " (0.011049979672242609, 14),\n",
       " (0.010778597900884987, 37),\n",
       " (0.010759719166234463, 38),\n",
       " (0.01057443431713684, 19),\n",
       " (0.010288670256288896, 21),\n",
       " (0.010153778392284032, 39),\n",
       " (0.009048116301055082, 9),\n",
       " (0.008102063342118463, 29),\n",
       " (0.007923006143885766, 28),\n",
       " (0.00748030358902065, 27),\n",
       " (0.007309366305136553, 12),\n",
       " (0.0069377859747109406, 17),\n",
       " (0.006606999881606849, 25),\n",
       " (0.0065397014850117445, 15),\n",
       " (0.006427737519077141, 20),\n",
       " (0.00606853062401302, 8),\n",
       " (0.005869387174820218, 31),\n",
       " (0.005830681296778635, 34),\n",
       " (0.005681125117452176, 16),\n",
       " (0.005573336007946305, 5),\n",
       " (0.005196897154751596, 6),\n",
       " (0.004825876833651588, 24),\n",
       " (0.0047028638149342805, 35),\n",
       " (0.00417133670386044, 36),\n",
       " (0.004024014408192197, 11),\n",
       " (0.0032595466075524666, 22),\n",
       " (0.002702523151658718, 18),\n",
       " (0.002668195476664371, 23),\n",
       " (0.002255510899129712, 33)]"
      ]
     },
     "execution_count": 16,
     "metadata": {},
     "output_type": "execute_result"
    }
   ],
   "source": [
    "## Feature importance of descision tree classifier\n",
    "sorted(zip(tree_classifier.feature_importances_, feature_names), reverse=True)"
   ]
  },
  {
   "cell_type": "code",
   "execution_count": 17,
   "metadata": {
    "ExecuteTime": {
     "end_time": "2020-07-29T05:41:21.141086Z",
     "start_time": "2020-07-29T05:41:21.137758Z"
    }
   },
   "outputs": [],
   "source": [
    "y_pred = tree_classifier.predict(x_test)"
   ]
  },
  {
   "cell_type": "code",
   "execution_count": 18,
   "metadata": {
    "ExecuteTime": {
     "end_time": "2020-07-29T05:41:21.708478Z",
     "start_time": "2020-07-29T05:41:21.668790Z"
    }
   },
   "outputs": [
    {
     "name": "stdout",
     "output_type": "stream",
     "text": [
      "                precision    recall  f1-score   support\n",
      "\n",
      "     CONFIRMED       0.74      0.71      0.72       438\n",
      "FALSE POSITIVE       0.72      0.75      0.73       447\n",
      "     CANDIDATE       0.99      0.98      0.98       863\n",
      "\n",
      "      accuracy                           0.85      1748\n",
      "     macro avg       0.81      0.81      0.81      1748\n",
      "  weighted avg       0.85      0.85      0.85      1748\n",
      "\n"
     ]
    }
   ],
   "source": [
    "# Calculate classification report\n",
    "from sklearn.metrics import classification_report\n",
    "print(classification_report(y_test, y_pred,\n",
    "                            target_names=[\"CONFIRMED\", \"FALSE POSITIVE\", \"CANDIDATE\"]))"
   ]
  },
  {
   "cell_type": "code",
   "execution_count": 19,
   "metadata": {
    "ExecuteTime": {
     "end_time": "2020-07-29T05:41:22.466175Z",
     "start_time": "2020-07-29T05:41:22.313380Z"
    }
   },
   "outputs": [
    {
     "data": {
      "text/plain": [
       "<sklearn.metrics._plot.confusion_matrix.ConfusionMatrixDisplay at 0x7f9a168396d8>"
      ]
     },
     "execution_count": 19,
     "metadata": {},
     "output_type": "execute_result"
    },
    {
     "data": {
      "image/png": "[encoded data removed]",
      "text/plain": [
       "<Figure size 432x288 with 2 Axes>"
      ]
     },
     "metadata": {
      "needs_background": "light"
     },
     "output_type": "display_data"
    }
   ],
   "source": [
    "from sklearn.metrics import plot_confusion_matrix\n",
    "plot_confusion_matrix(tree_classifier, x_test, y_test)"
   ]
  },
  {
   "cell_type": "markdown",
   "metadata": {},
   "source": [
    "# Random Forest Classifier"
   ]
  },
  {
   "cell_type": "code",
   "execution_count": 20,
   "metadata": {
    "ExecuteTime": {
     "end_time": "2020-07-29T05:41:26.526026Z",
     "start_time": "2020-07-29T05:41:23.365128Z"
    }
   },
   "outputs": [
    {
     "data": {
      "text/plain": [
       "0.8901601830663616"
      ]
     },
     "execution_count": 20,
     "metadata": {},
     "output_type": "execute_result"
    }
   ],
   "source": [
    "forest_classifer = RandomForestClassifier(n_estimators=200)\n",
    "forest_classifer = forest_classifer.fit(x_train, y_train)\n",
    "forest_classifer.score(x_test, y_test)"
   ]
  },
  {
   "cell_type": "code",
   "execution_count": 49,
   "metadata": {
    "ExecuteTime": {
     "end_time": "2020-07-28T17:14:28.459688Z",
     "start_time": "2020-07-28T17:14:28.431952Z"
    }
   },
   "outputs": [
    {
     "data": {
      "text/plain": [
       "[(0.11423974589322476, 2),\n",
       " (0.10001173014528054, 0),\n",
       " (0.07292687517180903, 1),\n",
       " (0.060266305595341435, 26),\n",
       " (0.053401514471152316, 19),\n",
       " (0.036565959571334065, 14),\n",
       " (0.031814718059854655, 21),\n",
       " (0.03176814704847605, 3),\n",
       " (0.030882845674259463, 20),\n",
       " (0.028951160285211976, 30),\n",
       " (0.02883730656246583, 15),\n",
       " (0.026314567271800232, 29),\n",
       " (0.02239388913573683, 9),\n",
       " (0.021905676032875913, 8),\n",
       " (0.021675387839642478, 16),\n",
       " (0.021227794564274417, 4),\n",
       " (0.021170794472226598, 13),\n",
       " (0.019834150928331205, 10),\n",
       " (0.018362811630946746, 24),\n",
       " (0.0178325626513295, 6),\n",
       " (0.01563948026005604, 5),\n",
       " (0.015338489770022074, 25),\n",
       " (0.014237396909685073, 18),\n",
       " (0.013572188620062842, 22),\n",
       " (0.013387105247598492, 23),\n",
       " (0.013020893819544108, 37),\n",
       " (0.012230847177620064, 7),\n",
       " (0.012005635521346028, 17),\n",
       " (0.011163702164419802, 35),\n",
       " (0.010942335496836786, 38),\n",
       " (0.010544101122022722, 12),\n",
       " (0.010457570609444987, 11),\n",
       " (0.010258196502455439, 39),\n",
       " (0.009895110044366502, 33),\n",
       " (0.009604750082670078, 28),\n",
       " (0.008596915203332983, 34),\n",
       " (0.008511619512247964, 36),\n",
       " (0.008482264990960447, 31),\n",
       " (0.00826311937491387, 32),\n",
       " (0.0034643345648197026, 27)]"
      ]
     },
     "execution_count": 49,
     "metadata": {},
     "output_type": "execute_result"
    }
   ],
   "source": [
    "## Feature importance of random forest classifier\n",
    "sorted(zip(forest_classifer.feature_importances_, feature_names), reverse=True)"
   ]
  },
  {
   "cell_type": "code",
   "execution_count": 50,
   "metadata": {
    "ExecuteTime": {
     "end_time": "2020-07-28T17:14:29.400030Z",
     "start_time": "2020-07-28T17:14:29.333741Z"
    }
   },
   "outputs": [],
   "source": [
    "y_pred = forest_classifer.predict(x_test)"
   ]
  },
  {
   "cell_type": "code",
   "execution_count": 51,
   "metadata": {
    "ExecuteTime": {
     "end_time": "2020-07-28T17:14:29.581778Z",
     "start_time": "2020-07-28T17:14:29.545718Z"
    }
   },
   "outputs": [
    {
     "name": "stdout",
     "output_type": "stream",
     "text": [
      "                precision    recall  f1-score   support\n",
      "\n",
      "     CONFIRMED       0.81      0.78      0.80       399\n",
      "FALSE POSITIVE       0.82      0.81      0.82       448\n",
      "     CANDIDATE       0.98      1.00      0.99       901\n",
      "\n",
      "      accuracy                           0.90      1748\n",
      "     macro avg       0.87      0.87      0.87      1748\n",
      "  weighted avg       0.90      0.90      0.90      1748\n",
      "\n"
     ]
    }
   ],
   "source": [
    "# Calculate classification report\n",
    "from sklearn.metrics import classification_report\n",
    "print(classification_report(y_test, y_pred,\n",
    "                            target_names=[\"CONFIRMED\", \"FALSE POSITIVE\", \"CANDIDATE\"]))"
   ]
  },
  {
   "cell_type": "code",
   "execution_count": 52,
   "metadata": {
    "ExecuteTime": {
     "end_time": "2020-07-28T17:14:30.324064Z",
     "start_time": "2020-07-28T17:14:30.131138Z"
    }
   },
   "outputs": [
    {
     "data": {
      "text/plain": [
       "<sklearn.metrics._plot.confusion_matrix.ConfusionMatrixDisplay at 0x7faa199cebe0>"
      ]
     },
     "execution_count": 52,
     "metadata": {},
     "output_type": "execute_result"
    },
    {
     "data": {
      "image/png": "[encoded data removed]",
      "text/plain": [
       "<Figure size 432x288 with 2 Axes>"
      ]
     },
     "metadata": {
      "needs_background": "light"
     },
     "output_type": "display_data"
    }
   ],
   "source": [
    "from sklearn.metrics import plot_confusion_matrix\n",
    "plot_confusion_matrix(forest_classifer, x_test, y_test)"
   ]
  },
  {
   "cell_type": "code",
   "execution_count": null,
   "metadata": {},
   "outputs": [],
   "source": []
  }
 ],
 "metadata": {
  "kernelspec": {
   "display_name": "Python 3",
   "language": "python",
   "name": "python3"
  },
  "language_info": {
   "codemirror_mode": {
    "name": "ipython",
    "version": 3
   },
   "file_extension": ".py",
   "mimetype": "text/x-python",
   "name": "python",
   "nbconvert_exporter": "python",
   "pygments_lexer": "ipython3",
   "version": "3.6.10"
  },
  "toc": {
   "base_numbering": 1,
   "nav_menu": {},
   "number_sections": true,
   "sideBar": true,
   "skip_h1_title": false,
   "title_cell": "Table of Contents",
   "title_sidebar": "Contents",
   "toc_cell": false,
   "toc_position": {},
   "toc_section_display": true,
   "toc_window_display": false
  },
  "varInspector": {
   "cols": {
    "lenName": 16,
    "lenType": 16,
    "lenVar": 40
   },
   "kernels_config": {
    "python": {
     "delete_cmd_postfix": "",
     "delete_cmd_prefix": "del ",
     "library": "var_list.py",
     "varRefreshCmd": "print(var_dic_list())"
    },
    "r": {
     "delete_cmd_postfix": ") ",
     "delete_cmd_prefix": "rm(",
     "library": "var_list.r",
     "varRefreshCmd": "cat(var_dic_list()) "
    }
   },
   "types_to_exclude": [
    "module",
    "function",
    "builtin_function_or_method",
    "instance",
    "_Feature"
   ],
   "window_display": false
  }
 },
 "nbformat": 4,
 "nbformat_minor": 4
}
