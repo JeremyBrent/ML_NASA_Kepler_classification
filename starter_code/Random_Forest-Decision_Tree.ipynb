{
 "cells": [
  {
   "cell_type": "code",
   "execution_count": 8,
   "metadata": {
    "ExecuteTime": {
     "end_time": "2020-07-28T16:45:24.130425Z",
     "start_time": "2020-07-28T16:45:24.127002Z"
    }
   },
   "outputs": [],
   "source": [
    "import pandas as pd\n",
    "import matplotlib.pyplot as plt\n",
    "import seaborn as sns\n",
    "import joblib\n",
    "import sklearn\n",
    "from sklearn.tree import DecisionTreeClassifier\n",
    "from sklearn.ensemble import RandomForestClassifier"
   ]
  },
  {
   "cell_type": "code",
   "execution_count": 21,
   "metadata": {
    "ExecuteTime": {
     "end_time": "2020-07-28T16:49:41.707523Z",
     "start_time": "2020-07-28T16:49:41.662544Z"
    }
   },
   "outputs": [],
   "source": [
    "input_data = pd.read_csv(\"exoplanet_data.csv\").iloc[:,1:]\n",
    "feature_names = input_data.columns"
   ]
  },
  {
   "cell_type": "code",
   "execution_count": 3,
   "metadata": {
    "ExecuteTime": {
     "end_time": "2020-07-28T16:43:48.917321Z",
     "start_time": "2020-07-28T16:43:48.905951Z"
    }
   },
   "outputs": [],
   "source": [
    "npz = np.load(\"../Data/Kepler_data_train.npz\",allow_pickle=True)\n",
    "\n",
    "x_train = npz['inputs']\n",
    "y_train = npz['targets']\n",
    "\n",
    "npz = np.load(\"../Data/Kepler_data_test.npz\",allow_pickle=True)\n",
    "x_test = npz['inputs']\n",
    "y_test = npz['targets']"
   ]
  },
  {
   "cell_type": "code",
   "execution_count": 26,
   "metadata": {
    "ExecuteTime": {
     "end_time": "2020-07-28T16:52:15.095739Z",
     "start_time": "2020-07-28T16:52:15.092496Z"
    }
   },
   "outputs": [],
   "source": [
    "feature_names = pd.DataFrame(x_train)"
   ]
  },
  {
   "cell_type": "markdown",
   "metadata": {},
   "source": [
    "# Decision Tree Classifier"
   ]
  },
  {
   "cell_type": "code",
   "execution_count": 6,
   "metadata": {
    "ExecuteTime": {
     "end_time": "2020-07-28T16:44:46.474103Z",
     "start_time": "2020-07-28T16:44:46.305270Z"
    }
   },
   "outputs": [
    {
     "data": {
      "text/plain": [
       "0.852974828375286"
      ]
     },
     "execution_count": 6,
     "metadata": {},
     "output_type": "execute_result"
    }
   ],
   "source": [
    "tree_classifier = DecisionTreeClassifier()\n",
    "tree_classifier.fit(x_train, y_train)\n",
    "tree_classifier.score(x_test, y_test)"
   ]
  },
  {
   "cell_type": "markdown",
   "metadata": {},
   "source": [
    "# Random Forest Classifier"
   ]
  },
  {
   "cell_type": "code",
   "execution_count": 10,
   "metadata": {
    "ExecuteTime": {
     "end_time": "2020-07-28T16:45:38.512070Z",
     "start_time": "2020-07-28T16:45:35.561577Z"
    }
   },
   "outputs": [
    {
     "data": {
      "text/plain": [
       "0.8810068649885584"
      ]
     },
     "execution_count": 10,
     "metadata": {},
     "output_type": "execute_result"
    }
   ],
   "source": [
    "forest_classifer = RandomForestClassifier(n_estimators=200)\n",
    "forest_classifer = forest_classifer.fit(x_train, y_train)\n",
    "forest_classifer.score(x_test, y_test)"
   ]
  },
  {
   "cell_type": "code",
   "execution_count": 25,
   "metadata": {
    "ExecuteTime": {
     "end_time": "2020-07-28T16:52:10.219174Z",
     "start_time": "2020-07-28T16:52:10.196922Z"
    }
   },
   "outputs": [
    {
     "data": {
      "text/plain": [
       "[(0.10743784204953524, 2),\n",
       " (0.09860400335413487, 0),\n",
       " (0.061830930041419804, 1),\n",
       " (0.05970085146635897, 26),\n",
       " (0.05607970264465197, 19),\n",
       " (0.03427163665012791, 15),\n",
       " (0.034132358405610644, 3),\n",
       " (0.033346099754061546, 20),\n",
       " (0.032126530563332215, 29),\n",
       " (0.03189580832643962, 21),\n",
       " (0.03042218894333312, 14),\n",
       " (0.028837184665848455, 30),\n",
       " (0.023012945444618058, 9),\n",
       " (0.022211699362161566, 8),\n",
       " (0.022057586932836805, 13),\n",
       " (0.021638748953573744, 4),\n",
       " (0.02014934475031403, 16),\n",
       " (0.018880897929968683, 24),\n",
       " (0.018795299763705656, 10),\n",
       " (0.018517498862761467, 5),\n",
       " (0.017252141701973155, 23),\n",
       " (0.017125532430618103, 6),\n",
       " (0.01554182652265098, 22),\n",
       " (0.013097009585261552, 17),\n",
       " (0.012892229498385224, 18),\n",
       " (0.01272042300744413, 37),\n",
       " (0.012528317334723028, 25),\n",
       " (0.012519987463795512, 7),\n",
       " (0.011682292357417854, 35),\n",
       " (0.010646288337468349, 38),\n",
       " (0.010594870330794995, 33),\n",
       " (0.010570647378327067, 39),\n",
       " (0.010402581255414566, 12),\n",
       " (0.010256792206016085, 11),\n",
       " (0.00944690045347192, 31),\n",
       " (0.009419717143574898, 28),\n",
       " (0.009397376077987029, 32),\n",
       " (0.008880769152436723, 34),\n",
       " (0.008675210862206833, 36),\n",
       " (0.0023999280352377137, 27)]"
      ]
     },
     "execution_count": 25,
     "metadata": {},
     "output_type": "execute_result"
    }
   ],
   "source": [
    "## Feature importance of random forest classifier\n",
    "sorted(zip(forest_classifer.feature_importances_, feature_names), reverse=True)"
   ]
  },
  {
   "cell_type": "code",
   "execution_count": null,
   "metadata": {},
   "outputs": [],
   "source": []
  }
 ],
 "metadata": {
  "kernelspec": {
   "display_name": "Python 3",
   "language": "python",
   "name": "python3"
  },
  "language_info": {
   "codemirror_mode": {
    "name": "ipython",
    "version": 3
   },
   "file_extension": ".py",
   "mimetype": "text/x-python",
   "name": "python",
   "nbconvert_exporter": "python",
   "pygments_lexer": "ipython3",
   "version": "3.6.10"
  },
  "toc": {
   "base_numbering": 1,
   "nav_menu": {},
   "number_sections": true,
   "sideBar": true,
   "skip_h1_title": false,
   "title_cell": "Table of Contents",
   "title_sidebar": "Contents",
   "toc_cell": false,
   "toc_position": {},
   "toc_section_display": true,
   "toc_window_display": false
  },
  "varInspector": {
   "cols": {
    "lenName": 16,
    "lenType": 16,
    "lenVar": 40
   },
   "kernels_config": {
    "python": {
     "delete_cmd_postfix": "",
     "delete_cmd_prefix": "del ",
     "library": "var_list.py",
     "varRefreshCmd": "print(var_dic_list())"
    },
    "r": {
     "delete_cmd_postfix": ") ",
     "delete_cmd_prefix": "rm(",
     "library": "var_list.r",
     "varRefreshCmd": "cat(var_dic_list()) "
    }
   },
   "types_to_exclude": [
    "module",
    "function",
    "builtin_function_or_method",
    "instance",
    "_Feature"
   ],
   "window_display": false
  }
 },
 "nbformat": 4,
 "nbformat_minor": 4
}
