{
 "cells": [
  {
   "cell_type": "code",
   "execution_count": 1,
   "metadata": {
    "ExecuteTime": {
     "end_time": "2020-07-29T05:34:39.450472Z",
     "start_time": "2020-07-29T05:34:38.247270Z"
    }
   },
   "outputs": [],
   "source": [
    "# Import dependencies\n",
    "import pandas as pd\n",
    "import matplotlib.pyplot as plt\n",
    "import seaborn as sns\n",
    "import joblib\n",
    "import sklearn\n",
    "from sklearn.tree import DecisionTreeClassifier\n",
    "from sklearn.ensemble import RandomForestClassifier"
   ]
  },
  {
   "cell_type": "code",
   "execution_count": 2,
   "metadata": {
    "ExecuteTime": {
     "end_time": "2020-07-29T05:34:39.493229Z",
     "start_time": "2020-07-29T05:34:39.456249Z"
    }
   },
   "outputs": [],
   "source": [
    "# Get column names for feature importance analysis\n",
    "input_data = pd.read_csv(\"../Data/exoplanet_data.csv\").iloc[:,1:]\n",
    "feature_names = input_data.columns"
   ]
  },
  {
   "cell_type": "code",
   "execution_count": 3,
   "metadata": {
    "ExecuteTime": {
     "end_time": "2020-07-29T05:34:39.529674Z",
     "start_time": "2020-07-29T05:34:39.519697Z"
    }
   },
   "outputs": [],
   "source": [
    "# Load data\n",
    "npz = np.load(\"../Data/Kepler_data_train.npz\",allow_pickle=True)\n",
    "\n",
    "x_train = npz['inputs']\n",
    "y_train = npz['targets']\n",
    "\n",
    "npz = np.load(\"../Data/Kepler_data_test.npz\",allow_pickle=True)\n",
    "x_test = npz['inputs']\n",
    "y_test = npz['targets']"
   ]
  },
  {
   "cell_type": "code",
   "execution_count": 4,
   "metadata": {
    "ExecuteTime": {
     "end_time": "2020-07-29T05:34:39.555668Z",
     "start_time": "2020-07-29T05:34:39.553082Z"
    }
   },
   "outputs": [],
   "source": [
    "feature_names = pd.DataFrame(x_train)"
   ]
  },
  {
   "cell_type": "markdown",
   "metadata": {},
   "source": [
    "# Decision Tree Classifier"
   ]
  },
  {
   "cell_type": "code",
   "execution_count": 5,
   "metadata": {
    "ExecuteTime": {
     "end_time": "2020-07-29T05:34:40.062262Z",
     "start_time": "2020-07-29T05:34:39.970674Z"
    }
   },
   "outputs": [
    {
     "data": {
      "text/plain": [
       "0.86441647597254"
      ]
     },
     "execution_count": 5,
     "metadata": {},
     "output_type": "execute_result"
    }
   ],
   "source": [
    "tree_classifier = DecisionTreeClassifier()\n",
    "tree_classifier.fit(x_train, y_train)\n",
    "tree_classifier.score(x_test, y_test)"
   ]
  },
  {
   "cell_type": "code",
   "execution_count": 6,
   "metadata": {
    "ExecuteTime": {
     "end_time": "2020-07-29T05:34:41.799502Z",
     "start_time": "2020-07-29T05:34:41.794427Z"
    }
   },
   "outputs": [
    {
     "data": {
      "text/plain": [
       "[(0.18564493680744748, 2),\n",
       " (0.18519729598226264, 0),\n",
       " (0.17812389782183546, 1),\n",
       " (0.15188153215713998, 12),\n",
       " (0.03984566202181231, 6),\n",
       " (0.030395049458732334, 3),\n",
       " (0.028732419442947355, 9),\n",
       " (0.027105835152145548, 18),\n",
       " (0.025568637495259377, 17),\n",
       " (0.020703076853202298, 4),\n",
       " (0.019441353515246635, 7),\n",
       " (0.01769166009482292, 5),\n",
       " (0.016134355531128724, 19),\n",
       " (0.015312357374969492, 8),\n",
       " (0.014245112099441303, 14),\n",
       " (0.013010109729914959, 16),\n",
       " (0.010702200743292454, 15),\n",
       " (0.010420522375290332, 11),\n",
       " (0.005331461660461918, 10),\n",
       " (0.004512523682646187, 13)]"
      ]
     },
     "execution_count": 6,
     "metadata": {},
     "output_type": "execute_result"
    }
   ],
   "source": [
    "## Feature importance of descision tree classifier\n",
    "sorted(zip(tree_classifier.feature_importances_, feature_names), reverse=True)"
   ]
  },
  {
   "cell_type": "code",
   "execution_count": 7,
   "metadata": {
    "ExecuteTime": {
     "end_time": "2020-07-29T05:34:42.698069Z",
     "start_time": "2020-07-29T05:34:42.694888Z"
    }
   },
   "outputs": [],
   "source": [
    "y_pred = tree_classifier.predict(x_test)"
   ]
  },
  {
   "cell_type": "code",
   "execution_count": 8,
   "metadata": {
    "ExecuteTime": {
     "end_time": "2020-07-29T05:34:43.586113Z",
     "start_time": "2020-07-29T05:34:43.554618Z"
    }
   },
   "outputs": [
    {
     "name": "stdout",
     "output_type": "stream",
     "text": [
      "                precision    recall  f1-score   support\n",
      "\n",
      "     CONFIRMED       0.73      0.78      0.75       415\n",
      "FALSE POSITIVE       0.77      0.72      0.74       449\n",
      "     CANDIDATE       0.98      0.97      0.98       884\n",
      "\n",
      "      accuracy                           0.86      1748\n",
      "     macro avg       0.83      0.83      0.83      1748\n",
      "  weighted avg       0.87      0.86      0.86      1748\n",
      "\n"
     ]
    }
   ],
   "source": [
    "# Calculate classification report\n",
    "from sklearn.metrics import classification_report\n",
    "print(classification_report(y_test, y_pred,\n",
    "                            target_names=[\"CONFIRMED\", \"FALSE POSITIVE\", \"CANDIDATE\"]))"
   ]
  },
  {
   "cell_type": "code",
   "execution_count": 9,
   "metadata": {
    "ExecuteTime": {
     "end_time": "2020-07-29T05:34:45.649538Z",
     "start_time": "2020-07-29T05:34:45.494300Z"
    }
   },
   "outputs": [
    {
     "data": {
      "text/plain": [
       "<sklearn.metrics._plot.confusion_matrix.ConfusionMatrixDisplay at 0x7f9a19c926d8>"
      ]
     },
     "execution_count": 9,
     "metadata": {},
     "output_type": "execute_result"
    },
    {
     "data": {
      "image/png": "[encoded data removed]",
      "text/plain": [
       "<Figure size 432x288 with 2 Axes>"
      ]
     },
     "metadata": {
      "needs_background": "light"
     },
     "output_type": "display_data"
    }
   ],
   "source": [
    "from sklearn.metrics import plot_confusion_matrix\n",
    "plot_confusion_matrix(tree_classifier, x_test, y_test)"
   ]
  },
  {
   "cell_type": "markdown",
   "metadata": {},
   "source": [
    "# Random Forest Classifier"
   ]
  },
  {
   "cell_type": "code",
   "execution_count": 10,
   "metadata": {
    "ExecuteTime": {
     "end_time": "2020-07-29T05:34:48.240934Z",
     "start_time": "2020-07-29T05:34:46.157806Z"
    }
   },
   "outputs": [
    {
     "data": {
      "text/plain": [
       "0.8935926773455377"
      ]
     },
     "execution_count": 10,
     "metadata": {},
     "output_type": "execute_result"
    }
   ],
   "source": [
    "forest_classifer = RandomForestClassifier(n_estimators=200)\n",
    "forest_classifer = forest_classifer.fit(x_train, y_train)\n",
    "forest_classifer.score(x_test, y_test)"
   ]
  },
  {
   "cell_type": "code",
   "execution_count": 49,
   "metadata": {
    "ExecuteTime": {
     "end_time": "2020-07-28T17:14:28.459688Z",
     "start_time": "2020-07-28T17:14:28.431952Z"
    }
   },
   "outputs": [
    {
     "data": {
      "text/plain": [
       "[(0.11423974589322476, 2),\n",
       " (0.10001173014528054, 0),\n",
       " (0.07292687517180903, 1),\n",
       " (0.060266305595341435, 26),\n",
       " (0.053401514471152316, 19),\n",
       " (0.036565959571334065, 14),\n",
       " (0.031814718059854655, 21),\n",
       " (0.03176814704847605, 3),\n",
       " (0.030882845674259463, 20),\n",
       " (0.028951160285211976, 30),\n",
       " (0.02883730656246583, 15),\n",
       " (0.026314567271800232, 29),\n",
       " (0.02239388913573683, 9),\n",
       " (0.021905676032875913, 8),\n",
       " (0.021675387839642478, 16),\n",
       " (0.021227794564274417, 4),\n",
       " (0.021170794472226598, 13),\n",
       " (0.019834150928331205, 10),\n",
       " (0.018362811630946746, 24),\n",
       " (0.0178325626513295, 6),\n",
       " (0.01563948026005604, 5),\n",
       " (0.015338489770022074, 25),\n",
       " (0.014237396909685073, 18),\n",
       " (0.013572188620062842, 22),\n",
       " (0.013387105247598492, 23),\n",
       " (0.013020893819544108, 37),\n",
       " (0.012230847177620064, 7),\n",
       " (0.012005635521346028, 17),\n",
       " (0.011163702164419802, 35),\n",
       " (0.010942335496836786, 38),\n",
       " (0.010544101122022722, 12),\n",
       " (0.010457570609444987, 11),\n",
       " (0.010258196502455439, 39),\n",
       " (0.009895110044366502, 33),\n",
       " (0.009604750082670078, 28),\n",
       " (0.008596915203332983, 34),\n",
       " (0.008511619512247964, 36),\n",
       " (0.008482264990960447, 31),\n",
       " (0.00826311937491387, 32),\n",
       " (0.0034643345648197026, 27)]"
      ]
     },
     "execution_count": 49,
     "metadata": {},
     "output_type": "execute_result"
    }
   ],
   "source": [
    "## Feature importance of random forest classifier\n",
    "sorted(zip(forest_classifer.feature_importances_, feature_names), reverse=True)"
   ]
  },
  {
   "cell_type": "code",
   "execution_count": 50,
   "metadata": {
    "ExecuteTime": {
     "end_time": "2020-07-28T17:14:29.400030Z",
     "start_time": "2020-07-28T17:14:29.333741Z"
    }
   },
   "outputs": [],
   "source": [
    "y_pred = forest_classifer.predict(x_test)"
   ]
  },
  {
   "cell_type": "code",
   "execution_count": 51,
   "metadata": {
    "ExecuteTime": {
     "end_time": "2020-07-28T17:14:29.581778Z",
     "start_time": "2020-07-28T17:14:29.545718Z"
    }
   },
   "outputs": [
    {
     "name": "stdout",
     "output_type": "stream",
     "text": [
      "                precision    recall  f1-score   support\n",
      "\n",
      "     CONFIRMED       0.81      0.78      0.80       399\n",
      "FALSE POSITIVE       0.82      0.81      0.82       448\n",
      "     CANDIDATE       0.98      1.00      0.99       901\n",
      "\n",
      "      accuracy                           0.90      1748\n",
      "     macro avg       0.87      0.87      0.87      1748\n",
      "  weighted avg       0.90      0.90      0.90      1748\n",
      "\n"
     ]
    }
   ],
   "source": [
    "# Calculate classification report\n",
    "from sklearn.metrics import classification_report\n",
    "print(classification_report(y_test, y_pred,\n",
    "                            target_names=[\"CONFIRMED\", \"FALSE POSITIVE\", \"CANDIDATE\"]))"
   ]
  },
  {
   "cell_type": "code",
   "execution_count": 52,
   "metadata": {
    "ExecuteTime": {
     "end_time": "2020-07-28T17:14:30.324064Z",
     "start_time": "2020-07-28T17:14:30.131138Z"
    }
   },
   "outputs": [
    {
     "data": {
      "text/plain": [
       "<sklearn.metrics._plot.confusion_matrix.ConfusionMatrixDisplay at 0x7faa199cebe0>"
      ]
     },
     "execution_count": 52,
     "metadata": {},
     "output_type": "execute_result"
    },
    {
     "data": {
      "image/png": "[encoded data removed]",
      "text/plain": [
       "<Figure size 432x288 with 2 Axes>"
      ]
     },
     "metadata": {
      "needs_background": "light"
     },
     "output_type": "display_data"
    }
   ],
   "source": [
    "from sklearn.metrics import plot_confusion_matrix\n",
    "plot_confusion_matrix(forest_classifer, x_test, y_test)"
   ]
  },
  {
   "cell_type": "code",
   "execution_count": null,
   "metadata": {},
   "outputs": [],
   "source": []
  }
 ],
 "metadata": {
  "kernelspec": {
   "display_name": "Python 3",
   "language": "python",
   "name": "python3"
  },
  "language_info": {
   "codemirror_mode": {
    "name": "ipython",
    "version": 3
   },
   "file_extension": ".py",
   "mimetype": "text/x-python",
   "name": "python",
   "nbconvert_exporter": "python",
   "pygments_lexer": "ipython3",
   "version": "3.6.10"
  },
  "toc": {
   "base_numbering": 1,
   "nav_menu": {},
   "number_sections": true,
   "sideBar": true,
   "skip_h1_title": false,
   "title_cell": "Table of Contents",
   "title_sidebar": "Contents",
   "toc_cell": false,
   "toc_position": {},
   "toc_section_display": true,
   "toc_window_display": false
  },
  "varInspector": {
   "cols": {
    "lenName": 16,
    "lenType": 16,
    "lenVar": 40
   },
   "kernels_config": {
    "python": {
     "delete_cmd_postfix": "",
     "delete_cmd_prefix": "del ",
     "library": "var_list.py",
     "varRefreshCmd": "print(var_dic_list())"
    },
    "r": {
     "delete_cmd_postfix": ") ",
     "delete_cmd_prefix": "rm(",
     "library": "var_list.r",
     "varRefreshCmd": "cat(var_dic_list()) "
    }
   },
   "types_to_exclude": [
    "module",
    "function",
    "builtin_function_or_method",
    "instance",
    "_Feature"
   ],
   "window_display": false
  }
 },
 "nbformat": 4,
 "nbformat_minor": 4
}
