{
 "cells": [
  {
   "cell_type": "code",
   "execution_count": 39,
   "metadata": {
    "ExecuteTime": {
     "end_time": "2020-07-28T17:14:16.018257Z",
     "start_time": "2020-07-28T17:14:16.014916Z"
    }
   },
   "outputs": [],
   "source": [
    "# Import dependencies\n",
    "import pandas as pd\n",
    "import matplotlib.pyplot as plt\n",
    "import seaborn as sns\n",
    "import joblib\n",
    "import sklearn\n",
    "from sklearn.tree import DecisionTreeClassifier\n",
    "from sklearn.ensemble import RandomForestClassifier"
   ]
  },
  {
   "cell_type": "code",
   "execution_count": 40,
   "metadata": {
    "ExecuteTime": {
     "end_time": "2020-07-28T17:14:16.390193Z",
     "start_time": "2020-07-28T17:14:16.348180Z"
    }
   },
   "outputs": [],
   "source": [
    "# Get column names for feature importance analysis\n",
    "input_data = pd.read_csv(\"../Data/exoplanet_data.csv\").iloc[:,1:]\n",
    "feature_names = input_data.columns"
   ]
  },
  {
   "cell_type": "code",
   "execution_count": 41,
   "metadata": {
    "ExecuteTime": {
     "end_time": "2020-07-28T17:14:18.433256Z",
     "start_time": "2020-07-28T17:14:18.423338Z"
    }
   },
   "outputs": [],
   "source": [
    "# Load data\n",
    "npz = np.load(\"../Data/Kepler_data_train.npz\",allow_pickle=True)\n",
    "\n",
    "x_train = npz['inputs']\n",
    "y_train = npz['targets']\n",
    "\n",
    "npz = np.load(\"../Data/Kepler_data_test.npz\",allow_pickle=True)\n",
    "x_test = npz['inputs']\n",
    "y_test = npz['targets']"
   ]
  },
  {
   "cell_type": "code",
   "execution_count": 42,
   "metadata": {
    "ExecuteTime": {
     "end_time": "2020-07-28T17:14:18.639104Z",
     "start_time": "2020-07-28T17:14:18.636206Z"
    }
   },
   "outputs": [],
   "source": [
    "feature_names = pd.DataFrame(x_train)"
   ]
  },
  {
   "cell_type": "markdown",
   "metadata": {},
   "source": [
    "# Decision Tree Classifier"
   ]
  },
  {
   "cell_type": "code",
   "execution_count": 43,
   "metadata": {
    "ExecuteTime": {
     "end_time": "2020-07-28T17:14:19.591899Z",
     "start_time": "2020-07-28T17:14:19.430243Z"
    }
   },
   "outputs": [
    {
     "data": {
      "text/plain": [
       "0.8501144164759725"
      ]
     },
     "execution_count": 43,
     "metadata": {},
     "output_type": "execute_result"
    }
   ],
   "source": [
    "tree_classifier = DecisionTreeClassifier()\n",
    "tree_classifier.fit(x_train, y_train)\n",
    "tree_classifier.score(x_test, y_test)"
   ]
  },
  {
   "cell_type": "code",
   "execution_count": 44,
   "metadata": {
    "ExecuteTime": {
     "end_time": "2020-07-28T17:14:20.994406Z",
     "start_time": "2020-07-28T17:14:20.988219Z"
    }
   },
   "outputs": [
    {
     "data": {
      "text/plain": [
       "[(0.1861372612156256, 0),\n",
       " (0.181158574517302, 2),\n",
       " (0.17755583374818026, 1),\n",
       " (0.14341483220399404, 26),\n",
       " (0.03260947526177768, 3),\n",
       " (0.03250868922764743, 10),\n",
       " (0.021256289271573785, 37),\n",
       " (0.01608820693021379, 29),\n",
       " (0.016042856888513132, 13),\n",
       " (0.012961472124095864, 4),\n",
       " (0.012662659871760766, 38),\n",
       " (0.009882034408903556, 39),\n",
       " (0.009238852202210006, 27),\n",
       " (0.00912744283828828, 9),\n",
       " (0.00898364386943163, 30),\n",
       " (0.008430603687683098, 36),\n",
       " (0.008399088376770697, 12),\n",
       " (0.008376227085227382, 19),\n",
       " (0.007908207771432878, 31),\n",
       " (0.007811073331860463, 16),\n",
       " (0.007171915783497008, 14),\n",
       " (0.00645872591490313, 32),\n",
       " (0.006308977403414789, 7),\n",
       " (0.006112716313659788, 18),\n",
       " (0.005905332574200542, 15),\n",
       " (0.005827373377657329, 28),\n",
       " (0.005386246553449924, 34),\n",
       " (0.00538568184630332, 11),\n",
       " (0.005163552010599692, 25),\n",
       " (0.004949386889109837, 33),\n",
       " (0.004466216806125911, 22),\n",
       " (0.004365236532922399, 24),\n",
       " (0.004361856463178727, 6),\n",
       " (0.0035794400968389185, 21),\n",
       " (0.0034834705778935627, 35),\n",
       " (0.0032573040230429377, 20),\n",
       " (0.0026171478748808013, 23),\n",
       " (0.0021656563697369465, 8),\n",
       " (0.0016688243311422132, 17),\n",
       " (0.0008116134249498294, 5)]"
      ]
     },
     "execution_count": 44,
     "metadata": {},
     "output_type": "execute_result"
    }
   ],
   "source": [
    "## Feature importance of descision tree classifier\n",
    "sorted(zip(tree_classifier.feature_importances_, feature_names), reverse=True)"
   ]
  },
  {
   "cell_type": "code",
   "execution_count": 45,
   "metadata": {
    "ExecuteTime": {
     "end_time": "2020-07-28T17:14:22.335741Z",
     "start_time": "2020-07-28T17:14:22.332584Z"
    }
   },
   "outputs": [],
   "source": [
    "y_pred = tree_classifier.predict(x_test)"
   ]
  },
  {
   "cell_type": "code",
   "execution_count": 46,
   "metadata": {
    "ExecuteTime": {
     "end_time": "2020-07-28T17:14:22.585476Z",
     "start_time": "2020-07-28T17:14:22.546997Z"
    }
   },
   "outputs": [
    {
     "name": "stdout",
     "output_type": "stream",
     "text": [
      "                precision    recall  f1-score   support\n",
      "\n",
      "     CONFIRMED       0.69      0.72      0.71       399\n",
      "FALSE POSITIVE       0.72      0.72      0.72       448\n",
      "     CANDIDATE       0.99      0.97      0.98       901\n",
      "\n",
      "      accuracy                           0.85      1748\n",
      "     macro avg       0.80      0.80      0.80      1748\n",
      "  weighted avg       0.85      0.85      0.85      1748\n",
      "\n"
     ]
    }
   ],
   "source": [
    "# Calculate classification report\n",
    "from sklearn.metrics import classification_report\n",
    "print(classification_report(y_test, y_pred,\n",
    "                            target_names=[\"CONFIRMED\", \"FALSE POSITIVE\", \"CANDIDATE\"]))"
   ]
  },
  {
   "cell_type": "code",
   "execution_count": 47,
   "metadata": {
    "ExecuteTime": {
     "end_time": "2020-07-28T17:14:23.679129Z",
     "start_time": "2020-07-28T17:14:23.529503Z"
    }
   },
   "outputs": [
    {
     "data": {
      "text/plain": [
       "<sklearn.metrics._plot.confusion_matrix.ConfusionMatrixDisplay at 0x7faa12c48b38>"
      ]
     },
     "execution_count": 47,
     "metadata": {},
     "output_type": "execute_result"
    },
    {
     "data": {
      "image/png": "[encoded data removed]",
      "text/plain": [
       "<Figure size 432x288 with 2 Axes>"
      ]
     },
     "metadata": {
      "needs_background": "light"
     },
     "output_type": "display_data"
    }
   ],
   "source": [
    "from sklearn.metrics import plot_confusion_matrix\n",
    "plot_confusion_matrix(tree_classifier, x_test, y_test)"
   ]
  },
  {
   "cell_type": "markdown",
   "metadata": {},
   "source": [
    "# Random Forest Classifier"
   ]
  },
  {
   "cell_type": "code",
   "execution_count": 48,
   "metadata": {
    "ExecuteTime": {
     "end_time": "2020-07-28T17:14:27.602461Z",
     "start_time": "2020-07-28T17:14:24.684821Z"
    }
   },
   "outputs": [
    {
     "data": {
      "text/plain": [
       "0.9016018306636155"
      ]
     },
     "execution_count": 48,
     "metadata": {},
     "output_type": "execute_result"
    }
   ],
   "source": [
    "forest_classifer = RandomForestClassifier(n_estimators=200)\n",
    "forest_classifer = forest_classifer.fit(x_train, y_train)\n",
    "forest_classifer.score(x_test, y_test)"
   ]
  },
  {
   "cell_type": "code",
   "execution_count": 49,
   "metadata": {
    "ExecuteTime": {
     "end_time": "2020-07-28T17:14:28.459688Z",
     "start_time": "2020-07-28T17:14:28.431952Z"
    }
   },
   "outputs": [
    {
     "data": {
      "text/plain": [
       "[(0.11423974589322476, 2),\n",
       " (0.10001173014528054, 0),\n",
       " (0.07292687517180903, 1),\n",
       " (0.060266305595341435, 26),\n",
       " (0.053401514471152316, 19),\n",
       " (0.036565959571334065, 14),\n",
       " (0.031814718059854655, 21),\n",
       " (0.03176814704847605, 3),\n",
       " (0.030882845674259463, 20),\n",
       " (0.028951160285211976, 30),\n",
       " (0.02883730656246583, 15),\n",
       " (0.026314567271800232, 29),\n",
       " (0.02239388913573683, 9),\n",
       " (0.021905676032875913, 8),\n",
       " (0.021675387839642478, 16),\n",
       " (0.021227794564274417, 4),\n",
       " (0.021170794472226598, 13),\n",
       " (0.019834150928331205, 10),\n",
       " (0.018362811630946746, 24),\n",
       " (0.0178325626513295, 6),\n",
       " (0.01563948026005604, 5),\n",
       " (0.015338489770022074, 25),\n",
       " (0.014237396909685073, 18),\n",
       " (0.013572188620062842, 22),\n",
       " (0.013387105247598492, 23),\n",
       " (0.013020893819544108, 37),\n",
       " (0.012230847177620064, 7),\n",
       " (0.012005635521346028, 17),\n",
       " (0.011163702164419802, 35),\n",
       " (0.010942335496836786, 38),\n",
       " (0.010544101122022722, 12),\n",
       " (0.010457570609444987, 11),\n",
       " (0.010258196502455439, 39),\n",
       " (0.009895110044366502, 33),\n",
       " (0.009604750082670078, 28),\n",
       " (0.008596915203332983, 34),\n",
       " (0.008511619512247964, 36),\n",
       " (0.008482264990960447, 31),\n",
       " (0.00826311937491387, 32),\n",
       " (0.0034643345648197026, 27)]"
      ]
     },
     "execution_count": 49,
     "metadata": {},
     "output_type": "execute_result"
    }
   ],
   "source": [
    "## Feature importance of random forest classifier\n",
    "sorted(zip(forest_classifer.feature_importances_, feature_names), reverse=True)"
   ]
  },
  {
   "cell_type": "code",
   "execution_count": 50,
   "metadata": {
    "ExecuteTime": {
     "end_time": "2020-07-28T17:14:29.400030Z",
     "start_time": "2020-07-28T17:14:29.333741Z"
    }
   },
   "outputs": [],
   "source": [
    "y_pred = forest_classifer.predict(x_test)"
   ]
  },
  {
   "cell_type": "code",
   "execution_count": 51,
   "metadata": {
    "ExecuteTime": {
     "end_time": "2020-07-28T17:14:29.581778Z",
     "start_time": "2020-07-28T17:14:29.545718Z"
    }
   },
   "outputs": [
    {
     "name": "stdout",
     "output_type": "stream",
     "text": [
      "                precision    recall  f1-score   support\n",
      "\n",
      "     CONFIRMED       0.81      0.78      0.80       399\n",
      "FALSE POSITIVE       0.82      0.81      0.82       448\n",
      "     CANDIDATE       0.98      1.00      0.99       901\n",
      "\n",
      "      accuracy                           0.90      1748\n",
      "     macro avg       0.87      0.87      0.87      1748\n",
      "  weighted avg       0.90      0.90      0.90      1748\n",
      "\n"
     ]
    }
   ],
   "source": [
    "# Calculate classification report\n",
    "from sklearn.metrics import classification_report\n",
    "print(classification_report(y_test, y_pred,\n",
    "                            target_names=[\"CONFIRMED\", \"FALSE POSITIVE\", \"CANDIDATE\"]))"
   ]
  },
  {
   "cell_type": "code",
   "execution_count": 52,
   "metadata": {
    "ExecuteTime": {
     "end_time": "2020-07-28T17:14:30.324064Z",
     "start_time": "2020-07-28T17:14:30.131138Z"
    }
   },
   "outputs": [
    {
     "data": {
      "text/plain": [
       "<sklearn.metrics._plot.confusion_matrix.ConfusionMatrixDisplay at 0x7faa199cebe0>"
      ]
     },
     "execution_count": 52,
     "metadata": {},
     "output_type": "execute_result"
    },
    {
     "data": {
      "image/png": "[encoded data removed]",
      "text/plain": [
       "<Figure size 432x288 with 2 Axes>"
      ]
     },
     "metadata": {
      "needs_background": "light"
     },
     "output_type": "display_data"
    }
   ],
   "source": [
    "from sklearn.metrics import plot_confusion_matrix\n",
    "plot_confusion_matrix(forest_classifer, x_test, y_test)"
   ]
  },
  {
   "cell_type": "code",
   "execution_count": null,
   "metadata": {},
   "outputs": [],
   "source": []
  }
 ],
 "metadata": {
  "kernelspec": {
   "display_name": "Python 3",
   "language": "python",
   "name": "python3"
  },
  "language_info": {
   "codemirror_mode": {
    "name": "ipython",
    "version": 3
   },
   "file_extension": ".py",
   "mimetype": "text/x-python",
   "name": "python",
   "nbconvert_exporter": "python",
   "pygments_lexer": "ipython3",
   "version": "3.6.10"
  },
  "toc": {
   "base_numbering": 1,
   "nav_menu": {},
   "number_sections": true,
   "sideBar": true,
   "skip_h1_title": false,
   "title_cell": "Table of Contents",
   "title_sidebar": "Contents",
   "toc_cell": false,
   "toc_position": {},
   "toc_section_display": true,
   "toc_window_display": false
  },
  "varInspector": {
   "cols": {
    "lenName": 16,
    "lenType": 16,
    "lenVar": 40
   },
   "kernels_config": {
    "python": {
     "delete_cmd_postfix": "",
     "delete_cmd_prefix": "del ",
     "library": "var_list.py",
     "varRefreshCmd": "print(var_dic_list())"
    },
    "r": {
     "delete_cmd_postfix": ") ",
     "delete_cmd_prefix": "rm(",
     "library": "var_list.r",
     "varRefreshCmd": "cat(var_dic_list()) "
    }
   },
   "types_to_exclude": [
    "module",
    "function",
    "builtin_function_or_method",
    "instance",
    "_Feature"
   ],
   "window_display": false
  }
 },
 "nbformat": 4,
 "nbformat_minor": 4
}
